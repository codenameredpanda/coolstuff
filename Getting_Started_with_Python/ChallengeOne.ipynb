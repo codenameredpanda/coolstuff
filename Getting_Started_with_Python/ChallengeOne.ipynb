{
 "cells": [
  {
   "cell_type": "markdown",
   "id": "705a2663-9757-451b-87ef-590ca963a7c3",
   "metadata": {},
   "source": [
    "# Challenge One"
   ]
  },
  {
   "cell_type": "markdown",
   "id": "f7a639ee-5b02-46c7-8794-17d96eab6904",
   "metadata": {},
   "source": [
    "## Factorial Challenge\n",
    "\n",
    "Write a function called factorial that returns the factorial of a number passed in."
   ]
  },
  {
   "cell_type": "code",
   "execution_count": 5,
   "id": "f355ece1-2f6d-4c95-93cd-4d78644f00df",
   "metadata": {},
   "outputs": [],
   "source": [
    "def factorial(num):\n",
    "    # If a float, etc, will not return the factorial\n",
    "    if type(num) != int:\n",
    "        return None\n",
    "    # Cannot have factorial of negative, so must be greater than zero\n",
    "    if num <0:\n",
    "        return None\n",
    "\n",
    "    # The variable that will be returned\n",
    "    fact = 1\n",
    "    # Counter counts how many loops are needed\n",
    "    counter = 1\n",
    "    # While statement to determine the correct number of loops based on the number given\n",
    "    while counter <= num:\n",
    "        # The factorial is calculated with each loop, ie first pass multiplies by 1, second by 2, etc\n",
    "        fact = fact * counter\n",
    "        # The loop is added plus one for each loop made\n",
    "        counter = counter + 1\n",
    "    return fact\n"
   ]
  },
  {
   "cell_type": "code",
   "execution_count": 8,
   "id": "b5992370-fb9b-40ad-9b55-ffb6c970dd04",
   "metadata": {},
   "outputs": [
    {
     "data": {
      "text/plain": [
       "120"
      ]
     },
     "execution_count": 8,
     "metadata": {},
     "output_type": "execute_result"
    }
   ],
   "source": [
    "factorial(5)"
   ]
  },
  {
   "cell_type": "markdown",
   "id": "fe761efb-f9d8-48a0-825e-8f23ef03cb16",
   "metadata": {},
   "source": [
    "### Recursion Bonus"
   ]
  },
  {
   "cell_type": "code",
   "execution_count": 6,
   "id": "3c35582b-fe7b-4065-8e52-d6883d5001f1",
   "metadata": {},
   "outputs": [],
   "source": [
    "def factorial(num):\n",
    "    if type(num) != int:\n",
    "        return None\n",
    "    if num <0:\n",
    "        return None\n",
    "        \n",
    "    if num == 0:\n",
    "        return 1\n",
    "        \n",
    "    return num * factorial(num - 1)\n",
    "\n",
    "#for example: factorial(3), three is an int, is larger than zero, and does not equal zero, so passes first three if statements. \n",
    "#On return line, 3 is multiplied by the factorial of two. Because factorial definition is called again, factorial(2) repeats \n",
    "#through the same if statements. Factorial continues until factorial(0), which ends at the if num == 0: return 1 line and does \n",
    "#not continue in the loop thereafter."
   ]
  },
  {
   "cell_type": "code",
   "execution_count": 7,
   "id": "26a6234a-882b-4e3d-aa5d-dbe9a9a5d35d",
   "metadata": {},
   "outputs": [
    {
     "data": {
      "text/plain": [
       "120"
      ]
     },
     "execution_count": 7,
     "metadata": {},
     "output_type": "execute_result"
    }
   ],
   "source": [
    "factorial(5)"
   ]
  },
  {
   "cell_type": "code",
   "execution_count": 9,
   "id": "e3595bc2-4a26-4f00-b84f-f504a4bff902",
   "metadata": {},
   "outputs": [
    {
     "data": {
      "text/plain": [
       "6"
      ]
     },
     "execution_count": 9,
     "metadata": {},
     "output_type": "execute_result"
    }
   ],
   "source": [
    "456 % 10"
   ]
  },
  {
   "cell_type": "code",
   "execution_count": null,
   "id": "4d8213d8-1c98-4a62-929e-f4adf5f23e15",
   "metadata": {},
   "outputs": [],
   "source": []
  }
 ],
 "metadata": {
  "kernelspec": {
   "display_name": "Python 3 (ipykernel)",
   "language": "python",
   "name": "python3"
  },
  "language_info": {
   "codemirror_mode": {
    "name": "ipython",
    "version": 3
   },
   "file_extension": ".py",
   "mimetype": "text/x-python",
   "name": "python",
   "nbconvert_exporter": "python",
   "pygments_lexer": "ipython3",
   "version": "3.11.7"
  }
 },
 "nbformat": 4,
 "nbformat_minor": 5
}
